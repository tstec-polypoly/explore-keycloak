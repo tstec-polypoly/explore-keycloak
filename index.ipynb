{
 "cells": [
  {
   "cell_type": "code",
   "execution_count": null,
   "metadata": {},
   "outputs": [],
   "source": [
    "#| hide\n",
    "from explore_keycloak.core import *"
   ]
  },
  {
   "cell_type": "markdown",
   "metadata": {},
   "source": [
    "# explore-keycloak\n",
    "\n",
    "> Keycloak OIDC Experiments\n",
    "\n",
    "================"
   ]
  },
  {
   "cell_type": "markdown",
   "metadata": {},
   "source": [
    "## Run Keycloak locally\n",
    "\n",
    "```\n",
    "docker-compose build\n",
    "docker-compose up\n",
    "```\n",
    "\n",
    "## Local Keycloak access\n",
    "\n",
    "https://localhost:8037/admin/master/console\n",
    "u: admin\n",
    "p: admin\n",
    "\n",
    "## Mailhog\n",
    "\n",
    "Check for test mails send by Keycloak\n",
    "http://localhost:8025/\n",
    "\n",
    "## Using Jupyter notebook with nbdev\n",
    "\n",
    "### Install poetry package manager\n",
    "\n",
    "Note: Using poetry is easier than Conda.\n",
    "\n",
    "```\n",
    "# From https://python-poetry.org/docs/\n",
    "curl -sSL https://raw.githubusercontent.com/python-poetry/poetry/master/get-poetry.py | python -\n",
    "```\n",
    "\n",
    "If you've already got poetry, you might want to...\n",
    "\n",
    "`poetry self update`\n",
    "\n",
    "### Install Jupyter with nbdev\n",
    "\n",
    "From https://nbdev.fast.ai/01_Tutorials/01_tutorial.html\n",
    "\n",
    "```\n",
    "# Install jupyter and nbdev in project's environment\n",
    "poetry install\n",
    "\n",
    "# Install nbdev dependancy quarto, see https://quarto.org/docs/get-started/hello/jupyter.html\n",
    "poetry run nbdev_install_quarto\n",
    "  # Start a new shell and ensure `which quarto` returns a valid path.\n",
    "\n",
    "# Note: `poetry run nbdev_new` was run to initialize this repository.\n",
    "\n",
    "# Initialize git hooks for Git-friendly Jupyter.\n",
    "poetry run nbdev_install_hooks\n",
    "```\n",
    "\n",
    "### Starting Jupyter\n",
    "\n",
    "`poetry run jupyter notebook`\n",
    "\n",
    "### nbdev generated documentation\n",
    "\n",
    "https://tstec-polypoly.github.io/explore-keycloak/"
   ]
  }
 ],
 "metadata": {
  "kernelspec": {
   "display_name": "Python 3 (ipykernel)",
   "language": "python",
   "name": "python3"
  }
 },
 "nbformat": 4,
 "nbformat_minor": 4
}
