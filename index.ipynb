{
 "cells": [
  {
   "cell_type": "code",
   "execution_count": null,
   "metadata": {},
   "outputs": [],
   "source": [
    "#| hide\n",
    "from explore_keycloak.core import *"
   ]
  },
  {
   "cell_type": "markdown",
   "metadata": {},
   "source": [
    "# Explore Keycloak\n",
    "\n",
    "> Keycloak Experiments\n",
    "\n",
    "================\n",
    "\n",
    "* [Magic Link Experiment](00_keycloak_generate_magic_link.ipynb)"
   ]
  },
  {
   "cell_type": "markdown",
   "metadata": {},
   "source": [
    "## Run Keycloak locally\n",
    "\n",
    "This also runs postgresql and mailhog containers.\n",
    "\n",
    "```\n",
    "docker-compose build\n",
    "docker-compose up\n",
    "```\n",
    "\n",
    "## Local Keycloak access\n",
    "\n",
    "[https://localhost:8037/admin/master/console](https://localhost:8037/admin/master/console)\n",
    "\n",
    "* user: admin\n",
    "* pass: admin\n",
    "\n",
    "## Keycloak Configuration\n",
    "\n",
    "![Alt text](MagicLinkAuthConfiguration/01.png?raw=true \"Title\")\n",
    "![Alt text](MagicLinkAuthConfiguration/02.png?raw=true \"Title\")\n",
    "![Alt text](MagicLinkAuthConfiguration/03.png?raw=true \"Title\")\n",
    "![Alt text](MagicLinkAuthConfiguration/04.png?raw=true \"Title\")\n",
    "![Alt text](MagicLinkAuthConfiguration/05.png?raw=true \"Title\")\n",
    "![Alt text](MagicLinkAuthConfiguration/06.png?raw=true \"Title\")\n",
    "![Alt text](MagicLinkAuthConfiguration/07.png?raw=true \"Title\")\n",
    "![Alt text](MagicLinkAuthConfiguration/08.png?raw=true \"Title\")\n",
    "![Alt text](MagicLinkAuthConfiguration/09.png?raw=true \"Title\")\n",
    "![Alt text](MagicLinkAuthConfiguration/10.png?raw=true \"Title\")\n",
    "![Alt text](MagicLinkAuthConfiguration/11.png?raw=true \"Title\")\n",
    "![Alt text](MagicLinkAuthConfiguration/12.png?raw=true \"Title\")\n",
    "![Alt text](MagicLinkAuthConfiguration/13.png?raw=true \"Title\")\n",
    "\n",
    "## Mailhog\n",
    "\n",
    "Check for test mails send by Keycloak\n",
    "\n",
    "[http://localhost:8025/](http://localhost:8025/)\n",
    "\n",
    "## Using Jupyter notebook with nbdev\n",
    "\n",
    "### Install poetry package manager\n",
    "\n",
    "Note: Using poetry is easier than Conda.\n",
    "\n",
    "```\n",
    "# From https://python-poetry.org/docs/\n",
    "curl -sSL https://raw.githubusercontent.com/python-poetry/poetry/master/get-poetry.py | python -\n",
    "```\n",
    "\n",
    "If you've already got poetry, you might want to...\n",
    "\n",
    "`poetry self update`\n",
    "\n",
    "### Install Jupyter with nbdev\n",
    "\n",
    "From https://nbdev.fast.ai/01_Tutorials/01_tutorial.html\n",
    "\n",
    "```\n",
    "# Install jupyter and nbdev in project's environment\n",
    "poetry install\n",
    "\n",
    "# Install nbdev dependancy quarto, see https://quarto.org/docs/get-started/hello/jupyter.html\n",
    "poetry run nbdev_install_quarto\n",
    "  # Start a new shell and ensure `which quarto` returns a valid path.\n",
    "\n",
    "# Note: `poetry run nbdev_new` was run to initialize this repository.\n",
    "\n",
    "# Initialize git hooks for Git-friendly Jupyter.\n",
    "poetry run nbdev_install_hooks\n",
    "```\n",
    "\n",
    "### Starting Jupyter\n",
    "\n",
    "`poetry run jupyter notebook`\n",
    "\n",
    "### nbdev generated documentation\n",
    "\n",
    "Update README.md with `poetry run nbdev_readme`\n",
    "\n",
    "https://tstec-polypoly.github.io/explore-keycloak/"
   ]
  }
 ],
 "metadata": {
  "kernelspec": {
   "display_name": "Python 3.9.13 ('ppedia-export-gLDgx1T6-py3.9')",
   "language": "python",
   "name": "python3"
  },
  "language_info": {
   "name": "python",
   "version": "3.9.13"
  },
  "vscode": {
   "interpreter": {
    "hash": "c180cc63a2aa317a313abce6b1a86d89d491857240633771ebcc432592159a8b"
   }
  }
 },
 "nbformat": 4,
 "nbformat_minor": 4
}
