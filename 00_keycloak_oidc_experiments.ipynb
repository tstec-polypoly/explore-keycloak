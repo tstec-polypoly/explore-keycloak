{
 "cells": [
  {
   "cell_type": "markdown",
   "metadata": {},
   "source": [
    "# Keycloak OIDC Experiments\n",
    "\n",
    "> Testing Keycloak OIDC flows"
   ]
  },
  {
   "cell_type": "code",
   "execution_count": null,
   "metadata": {},
   "outputs": [],
   "source": [
    "#| default_exp core"
   ]
  },
  {
   "cell_type": "code",
   "execution_count": null,
   "metadata": {},
   "outputs": [],
   "source": [
    "#| hide\n",
    "from nbdev.showdoc import *"
   ]
  },
  {
   "cell_type": "code",
   "execution_count": null,
   "metadata": {},
   "outputs": [],
   "source": [
    "import base64\n",
    "import hashlib\n",
    "import html\n",
    "import json\n",
    "import os\n",
    "import re\n",
    "import urllib.parse\n",
    "import requests"
   ]
  },
  {
   "cell_type": "code",
   "execution_count": null,
   "metadata": {},
   "outputs": [],
   "source": [
    "provider = \"https://localhost:8037/auth/realms/test\"\n",
    "client_id = \"test\"\n",
    "redirect_uri = \"https://localhost:3737\""
   ]
  },
  {
   "cell_type": "code",
   "execution_count": null,
   "metadata": {},
   "outputs": [
    {
     "data": {
      "text/plain": [
       "('uM3yNkRpclzUuABiVl64aNe6NAgqPyiah64BWEyNJwute7YcbFg', 51)"
      ]
     },
     "execution_count": null,
     "metadata": {},
     "output_type": "execute_result"
    }
   ],
   "source": [
    "code_verifier = base64.urlsafe_b64encode(os.urandom(40)).decode('utf-8')\n",
    "code_verifier = re.sub('[^a-zA-Z0-9]+', '', code_verifier)\n",
    "code_verifier, len(code_verifier)"
   ]
  },
  {
   "cell_type": "code",
   "execution_count": null,
   "metadata": {},
   "outputs": [
    {
     "data": {
      "text/plain": [
       "('yvB91DCUFnWp3VcJUai8nD_9vX6xmZ2_fJianKpnh7g', 43)"
      ]
     },
     "execution_count": null,
     "metadata": {},
     "output_type": "execute_result"
    }
   ],
   "source": [
    "code_challenge = hashlib.sha256(code_verifier.encode('utf-8')).digest()\n",
    "code_challenge = base64.urlsafe_b64encode(code_challenge).decode('utf-8')\n",
    "code_challenge = code_challenge.replace('=', '')\n",
    "code_challenge, len(code_challenge)"
   ]
  },
  {
   "cell_type": "code",
   "execution_count": null,
   "metadata": {},
   "outputs": [
    {
     "name": "stderr",
     "output_type": "stream",
     "text": [
      "/Users/admin/Library/Caches/pypoetry/virtualenvs/explore-keycloak-hV1l5bXr-py3.9/lib/python3.9/site-packages/urllib3/connectionpool.py:1045: InsecureRequestWarning: Unverified HTTPS request is being made to host 'localhost'. Adding certificate verification is strongly advised. See: https://urllib3.readthedocs.io/en/1.26.x/advanced-usage.html#ssl-warnings\n",
      "  warnings.warn(\n"
     ]
    },
    {
     "data": {
      "text/plain": [
       "404"
      ]
     },
     "execution_count": null,
     "metadata": {},
     "output_type": "execute_result"
    }
   ],
   "source": [
    "state = \"fooobarbaz\"\n",
    "resp = requests.get(\n",
    "    url=provider + \"/protocol/openid-connect/token\",\n",
    "    params={\n",
    "        \"response_type\": \"code\",\n",
    "        \"client_id\": client_id,\n",
    "        \"scope\": \"openid\",\n",
    "        \"redirect_uri\": redirect_uri,\n",
    "        \"state\": state,\n",
    "        \"code_challenge\": code_challenge,\n",
    "        \"code_challenge_method\": \"S256\",\n",
    "    },\n",
    "    verify=False,\n",
    "    allow_redirects=False\n",
    ")\n",
    "resp.status_code"
   ]
  },
  {
   "cell_type": "code",
   "execution_count": null,
   "metadata": {},
   "outputs": [],
   "source": []
  },
  {
   "cell_type": "code",
   "execution_count": null,
   "metadata": {},
   "outputs": [],
   "source": []
  },
  {
   "cell_type": "code",
   "execution_count": null,
   "metadata": {},
   "outputs": [],
   "source": []
  },
  {
   "cell_type": "code",
   "execution_count": null,
   "metadata": {},
   "outputs": [],
   "source": []
  },
  {
   "cell_type": "code",
   "execution_count": null,
   "metadata": {},
   "outputs": [],
   "source": [
    "#| hide\n",
    "import nbdev; nbdev.nbdev_export()"
   ]
  }
 ],
 "metadata": {
  "kernelspec": {
   "display_name": "Python 3 (ipykernel)",
   "language": "python",
   "name": "python3"
  }
 },
 "nbformat": 4,
 "nbformat_minor": 4
}
