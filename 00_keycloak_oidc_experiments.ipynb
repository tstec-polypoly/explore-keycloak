{
 "cells": [
  {
   "cell_type": "markdown",
   "metadata": {},
   "source": [
    "# Keycloak OIDC Experiments\n",
    "\n",
    "> Testing Keycloak OIDC flows"
   ]
  },
  {
   "cell_type": "code",
   "execution_count": null,
   "metadata": {},
   "outputs": [],
   "source": [
    "#| default_exp core"
   ]
  },
  {
   "cell_type": "code",
   "execution_count": null,
   "metadata": {},
   "outputs": [],
   "source": [
    "#| hide\n",
    "from nbdev.showdoc import *"
   ]
  },
  {
   "cell_type": "code",
   "execution_count": null,
   "metadata": {},
   "outputs": [],
   "source": [
    "import base64\n",
    "import hashlib\n",
    "import html\n",
    "import json\n",
    "import os\n",
    "import re\n",
    "import urllib.parse\n",
    "import requests\n",
    "import uuid\n",
    "import prettyprinter\n",
    "from prettyprinter import pprint\n",
    "\n"
   ]
  },
  {
   "cell_type": "code",
   "execution_count": null,
   "metadata": {},
   "outputs": [],
   "source": [
    "# HTTP Response Formatter \n",
    "prettyprinter.install_extras(['requests'])\n",
    "def print_response(response):\n",
    "    print(f'STATUS CODE: {response.status_code}' + \"\\n\")\n",
    "    print(f'HEADERS: {prettyprinter.pformat(response.headers)}' + \"\\n\")\n",
    "    print(f'TEXT: {response.text}')\n",
    "    "
   ]
  },
  {
   "cell_type": "code",
   "execution_count": null,
   "metadata": {},
   "outputs": [],
   "source": [
    "provider     = \"https://localhost:8037/realms/test\"\n",
    "client_id    = \"account-console\"\n",
    "redirect_uri = \"https://localhost:8037/realms/test/account/#/\""
   ]
  },
  {
   "cell_type": "code",
   "execution_count": null,
   "metadata": {},
   "outputs": [
    {
     "data": {
      "text/plain": [
       "('imRZNaZnh55wxckFw5fuv01N8Ldm0zdU4ZREFfFG8eSvm9PDKw', 50)"
      ]
     },
     "execution_count": null,
     "metadata": {},
     "output_type": "execute_result"
    }
   ],
   "source": [
    "code_verifier = base64.urlsafe_b64encode(os.urandom(40)).decode('utf-8')\n",
    "code_verifier = re.sub('[^a-zA-Z0-9]+', '', code_verifier)\n",
    "code_verifier, len(code_verifier)"
   ]
  },
  {
   "cell_type": "code",
   "execution_count": null,
   "metadata": {},
   "outputs": [
    {
     "data": {
      "text/plain": [
       "('PDbXWodkxLRxllxCm6so8QgsW7FUeTg0Ihqd-MR5Ack', 43)"
      ]
     },
     "execution_count": null,
     "metadata": {},
     "output_type": "execute_result"
    }
   ],
   "source": [
    "code_challenge = hashlib.sha256(code_verifier.encode('utf-8')).digest()\n",
    "code_challenge = base64.urlsafe_b64encode(code_challenge).decode('utf-8')\n",
    "code_challenge = code_challenge.replace('=', '')\n",
    "code_challenge, len(code_challenge)"
   ]
  },
  {
   "cell_type": "code",
   "execution_count": null,
   "metadata": {},
   "outputs": [
    {
     "data": {
      "text/plain": [
       "UUID('b2a84dde-768e-45bc-b693-4d7db8ccbdf1')"
      ]
     },
     "execution_count": null,
     "metadata": {},
     "output_type": "execute_result"
    }
   ],
   "source": [
    "state = uuid.uuid4() # Random UUID for state\n",
    "state"
   ]
  },
  {
   "cell_type": "code",
   "execution_count": null,
   "metadata": {},
   "outputs": [],
   "source": [
    "# Disable security warnings. Don't do this in production.\n",
    "requests.packages.urllib3.disable_warnings()"
   ]
  },
  {
   "cell_type": "code",
   "execution_count": null,
   "metadata": {},
   "outputs": [
    {
     "name": "stdout",
     "output_type": "stream",
     "text": [
      "STATUS CODE: 200\n",
      "\n",
      "HEADERS: requests.structures.CaseInsensitiveDict({\n",
      "    'Referrer-Policy': 'no-referrer',\n",
      "    'X-Frame-Options': 'SAMEORIGIN',\n",
      "    'Strict-Transport-Security': 'max-age=31536000; includeSubDomains',\n",
      "    'X-Robots-Tag': 'none',\n",
      "    'Cache-Control': 'no-store, must-revalidate, max-age=0',\n",
      "    'X-Content-Type-Options': 'nosniff',\n",
      "    'Content-Security-Policy': \"frame-src 'self'; frame-ancestors 'self'; object-src 'none';\",\n",
      "    'Set-Cookie':\n",
      "        'AUTH_SESSION_ID=62a52327-adf9-4c59-8e54-44565c0d813f.d42be559ddc7-117'\n",
      "        '12; Version=1; Path=/realms/test/; SameSite=None; Secure; HttpOnly, '\n",
      "        'AUTH_SESSION_ID_LEGACY=62a52327-adf9-4c59-8e54-44565c0d813f.d42be559d'\n",
      "        'dc7-11712; Version=1; Path=/realms/test/; HttpOnly, '\n",
      "        'KC_RESTART=eyJhbGciOiJIUzI1NiIsInR5cCIgOiAiSldUIiwia2lkIiA6ICI1MzNiMm'\n",
      "        'IxOS04NTliLTQwN2ItYjk2ZC1mZjVkOTM2NTZhNjAifQ.eyJjaWQiOiJhY2NvdW50LWNv'\n",
      "        'bnNvbGUiLCJwdHkiOiJvcGVuaWQtY29ubmVjdCIsInJ1cmkiOiJodHRwczovL2xvY2Fsa'\n",
      "        'G9zdDo4MDM3L3JlYWxtcy90ZXN0L2FjY291bnQvIy8iLCJhY3QiOiJBVVRIRU5USUNBVE'\n",
      "        'UiLCJub3RlcyI6eyJzY29wZSI6Im9wZW5pZCIsImlzcyI6Imh0dHBzOi8vbG9jYWxob3N'\n",
      "        '0OjgwMzcvcmVhbG1zL3Rlc3QiLCJyZXNwb25zZV90eXBlIjoiY29kZSIsImNvZGVfY2hh'\n",
      "        'bGxlbmdlX21ldGhvZCI6IlMyNTYiLCJyZWRpcmVjdF91cmkiOiJodHRwczovL2xvY2Fsa'\n",
      "        'G9zdDo4MDM3L3JlYWxtcy90ZXN0L2FjY291bnQvIy8iLCJzdGF0ZSI6ImIyYTg0ZGRlLT'\n",
      "        'c2OGUtNDViYy1iNjkzLTRkN2RiOGNjYmRmMSIsImNvZGVfY2hhbGxlbmdlIjoiUERiWFd'\n",
      "        'vZGt4TFJ4bGx4Q202c284UWdzVzdGVWVUZzBJaHFkLU1SNUFjayIsInJlc3BvbnNlX21v'\n",
      "        'ZGUiOiJmcmFnbWVudCJ9fQ.zre1Oj1kKUCafp-t0mmeHEYhpVzUatxIpYBBhohTaBA; '\n",
      "        'Version=1; Path=/realms/test/; HttpOnly',\n",
      "    'X-XSS-Protection': '1; mode=block',\n",
      "    'Content-Language': 'en',\n",
      "    'Content-Type': 'text/html;charset=utf-8',\n",
      "    'content-length': '3303'\n",
      "})\n",
      "\n",
      "TEXT: <!DOCTYPE html>\n",
      "<html class=\"login-pf\">\n",
      "\n",
      "<head>\n",
      "    <meta charset=\"utf-8\">\n",
      "    <meta http-equiv=\"Content-Type\" content=\"text/html; charset=UTF-8\" />\n",
      "    <meta name=\"robots\" content=\"noindex, nofollow\">\n",
      "\n",
      "            <meta name=\"viewport\" content=\"width=device-width,initial-scale=1\"/>\n",
      "    <title>Sign in to test</title>\n",
      "    <link rel=\"icon\" href=\"/resources/qxx5m/login/keycloak/img/favicon.ico\" />\n",
      "            <link href=\"/resources/qxx5m/common/keycloak/web_modules/@patternfly/react-core/dist/styles/base.css\" rel=\"stylesheet\" />\n",
      "            <link href=\"/resources/qxx5m/common/keycloak/web_modules/@patternfly/react-core/dist/styles/app.css\" rel=\"stylesheet\" />\n",
      "            <link href=\"/resources/qxx5m/common/keycloak/node_modules/patternfly/dist/css/patternfly.min.css\" rel=\"stylesheet\" />\n",
      "            <link href=\"/resources/qxx5m/common/keycloak/node_modules/patternfly/dist/css/patternfly-additions.min.css\" rel=\"stylesheet\" />\n",
      "            <link href=\"/resources/qxx5m/common/keycloak/lib/pficon/pficon.css\" rel=\"stylesheet\" />\n",
      "            <link href=\"/resources/qxx5m/login/keycloak/css/login.css\" rel=\"stylesheet\" />\n",
      "            <link href=\"/resources/qxx5m/login/keycloak/css/tile.css\" rel=\"stylesheet\" />\n",
      "</head>\n",
      "\n",
      "<body class=\"\">\n",
      "<div class=\"login-pf-page\">\n",
      "    <div id=\"kc-header\" class=\"login-pf-page-header\">\n",
      "        <div id=\"kc-header-wrapper\"\n",
      "             class=\"\">test</div>\n",
      "    </div>\n",
      "    <div class=\"card-pf\">\n",
      "        <header class=\"login-pf-header\">\n",
      "                <h1 id=\"kc-page-title\">        Sign in to your account\n",
      "\n",
      "</h1>\n",
      "      </header>\n",
      "      <div id=\"kc-content\">\n",
      "        <div id=\"kc-content-wrapper\">\n",
      "\n",
      "\n",
      "        <div id=\"kc-form\">\n",
      "            <div id=\"kc-form-wrapper\">\n",
      "                    <form id=\"kc-form-login\" onsubmit=\"login.disabled = true; return true;\" action=\"https://localhost:8037/realms/test/login-actions/authenticate?session_code=lAxyENHES3I2jamV1dcU6xAVwNxN-btAUVqBB6UqDOs&amp;execution=2457d94b-be53-4204-89b2-c764b4163051&amp;client_id=account-console&amp;tab_id=LdntvINKst0\"\n",
      "                          method=\"post\">\n",
      "                            <div class=\"form-group\">\n",
      "                                <label for=\"username\"\n",
      "                                       class=\"pf-c-form__label pf-c-form__label-text\">Username or email</label>\n",
      "\n",
      "                                <input tabindex=\"1\" id=\"username\"\n",
      "                                       aria-invalid=\"\"\n",
      "                                       class=\"pf-c-form-control\" name=\"username\"\n",
      "                                       value=\"\"\n",
      "                                       type=\"text\" autofocus autocomplete=\"off\"/>\n",
      "\n",
      "                            </div>\n",
      "\n",
      "                        <div class=\"form-group login-pf-settings\">\n",
      "                            <div id=\"kc-form-options\">\n",
      "                            </div>\n",
      "                        </div>\n",
      "\n",
      "                        <div id=\"kc-form-buttons\" class=\"form-group\">\n",
      "                            <input tabindex=\"4\"\n",
      "                                   class=\"pf-c-button pf-m-primary pf-m-block btn-lg\"\n",
      "                                   name=\"login\" id=\"kc-login\" type=\"submit\" value=\"Sign In\"/>\n",
      "                        </div>\n",
      "                    </form>\n",
      "            </div>\n",
      "        </div>\n",
      "\n",
      "\n",
      "\n",
      "\n",
      "\n",
      "\n",
      "        </div>\n",
      "      </div>\n",
      "\n",
      "    </div>\n",
      "  </div>\n",
      "</body>\n",
      "</html>\n",
      "\n"
     ]
    }
   ],
   "source": [
    "#|notest\n",
    "resp = requests.get(\n",
    "    url=provider + \"/protocol/openid-connect/auth\",\n",
    "    params={\n",
    "        \"client_id\": client_id,\n",
    "        \"redirect_uri\": redirect_uri,\n",
    "        \"state\": state,\n",
    "        \"response_mode\": \"fragment\",\n",
    "        \"response_type\": \"code\",\n",
    "        \"scope\": \"openid\",\n",
    "        ## @TODO Is 'nonce' needed?\n",
    "        # \"nonce\": \"228d2420-311a-4619-9963-3ea86378b78f\",\n",
    "        \"code_challenge\": code_challenge,\n",
    "        \"code_challenge_method\": \"S256\",\n",
    "    },\n",
    "    verify=False, # \\\\Disables TLS cert verification. Don't do this in production.\n",
    "    allow_redirects=False\n",
    ")\n",
    "print_response(resp)"
   ]
  },
  {
   "cell_type": "code",
   "execution_count": null,
   "metadata": {},
   "outputs": [],
   "source": [
    "#| hide\n",
    "import nbdev; nbdev.nbdev_export()"
   ]
  }
 ],
 "metadata": {
  "kernelspec": {
   "display_name": "Python 3 (ipykernel)",
   "language": "python",
   "name": "python3"
  }
 },
 "nbformat": 4,
 "nbformat_minor": 4
}
